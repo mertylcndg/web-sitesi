{
  "nbformat": 4,
  "nbformat_minor": 0,
  "metadata": {
    "colab": {
      "name": "3_kapı_poblemi.ipynb",
      "provenance": [],
      "collapsed_sections": [],
      "authorship_tag": "ABX9TyP940gcqi6NMh/UbQB8tH5i",
      "include_colab_link": true
    },
    "kernelspec": {
      "name": "python3",
      "display_name": "Python 3"
    },
    "language_info": {
      "name": "python"
    }
  },
  "cells": [
    {
      "cell_type": "markdown",
      "metadata": {
        "id": "view-in-github",
        "colab_type": "text"
      },
      "source": [
        "<a href=\"https://colab.research.google.com/github/mertylcndg/web-sitesi/blob/master/3_kap%C4%B1_poblemi.ipynb\" target=\"_parent\"><img src=\"https://colab.research.google.com/assets/colab-badge.svg\" alt=\"Open In Colab\"/></a>"
      ]
    },
    {
      "cell_type": "markdown",
      "source": [
        "  3 kapı poblemi bir yarışma icerisinde 3 kapıdan birinin yarışmacı tarafından secilmesi ile başlayan, seçilen kapı hariçinde sunucunun boş olan kapılardan birini açması ve yarışmacıya kapı değiştirme hakkın verilmesi durumunda kazanç oranının nasıl değiştinini hesaplanması problemidir.\n",
        "\n",
        "  3 kapı problemi içerisindeki iki durumun istatistik olarak değerlendirerek yüzdesel bir sunuç elde edilmiştir. Bu test kodu sonucunda eğer kapı değiştirilmez ise karşılaşılan sonucun %33 olması beklenmektedir. Sunucunun boş kapılardan birini açması sonucunda yarışmacının kapı değiştirdiği taktirde kazanma oranının %66 olması beklenmektedir."
      ],
      "metadata": {
        "id": "Vg1Gv43ryUXr"
      }
    },
    {
      "cell_type": "code",
      "execution_count": 1,
      "metadata": {
        "id": "7UmBeJanjUfB"
      },
      "outputs": [],
      "source": [
        "import random"
      ]
    },
    {
      "cell_type": "code",
      "source": [
        "kazanc = 0\n",
        "tekrar = 10000\n",
        "for i in range (tekrar):\n",
        "  doors = [1,1,1]\n",
        "  sum = 3\n",
        "  while sum != 1: \n",
        "    for a in range(3):\n",
        "      x = random.randint(0, 1)\n",
        "      doors[a] = int(x)\n",
        "    sum = doors[0] + doors[1] + doors[2]\n",
        "  seçim = random.randint(0,2)\n",
        "  if doors[seçim] == 1:\n",
        "    kazanc += 1\n",
        "yuzde = kazanc/100\n",
        "print(\"eğer kapı değiştirilmezse %{}\".format(yuzde))"
      ],
      "metadata": {
        "colab": {
          "base_uri": "https://localhost:8080/"
        },
        "id": "2yYXn_Jcj9za",
        "outputId": "5256a097-45e0-48d6-f918-4e775270f12b"
      },
      "execution_count": 22,
      "outputs": [
        {
          "output_type": "stream",
          "name": "stdout",
          "text": [
            "eğer kapı değiştirilmezse %33.54\n"
          ]
        }
      ]
    },
    {
      "cell_type": "code",
      "source": [
        "kazanc = 0\n",
        "tekrar = 10000\n",
        "for i in range (tekrar):\n",
        "  doors = [1,1,1]\n",
        "  sum = doors[0] + doors[1] + doors[2] \n",
        "  while sum != 1: \n",
        "    for a in range(3):\n",
        "      x = random.randint(0, 1)\n",
        "      doors[a] = int(x)\n",
        "    sum = doors[0] + doors[1] + doors[2]\n",
        "  seçim = random.randint(0,2)\n",
        "  sunucu = seçim\n",
        "  while sunucu == seçim:      \n",
        "    sunucu = random.randint(0,2)\n",
        "    while doors[sunucu] != 0: \n",
        "      sunucu = random.randint(0,2)\n",
        "  seçim2 = 0\n",
        "  if seçim2 == sunucu or seçim2 == seçim :\n",
        "    seçim2 = 1\n",
        "    if seçim2 == seçim or seçim2 == sunucu:\n",
        "      seçim2 = 2\n",
        "  if doors[seçim2] == 1:\n",
        "    kazanc += 1\n",
        "   \n",
        "yuzde = kazanc/100\n",
        "print(\"eğer kapı değiştirilirse %{}\".format(yuzde))"
      ],
      "metadata": {
        "colab": {
          "base_uri": "https://localhost:8080/"
        },
        "id": "7MKEHMDqsa0v",
        "outputId": "0c863826-424f-4056-d654-08790417f60e"
      },
      "execution_count": 26,
      "outputs": [
        {
          "output_type": "stream",
          "name": "stdout",
          "text": [
            "eğer kapı değiştirilmezse %66.49\n"
          ]
        }
      ]
    }
  ]
}